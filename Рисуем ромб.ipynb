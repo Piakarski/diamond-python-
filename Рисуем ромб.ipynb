{
 "cells": [
  {
   "cell_type": "markdown",
   "metadata": {},
   "source": [
    "# Рисуем ромб"
   ]
  },
  {
   "cell_type": "markdown",
   "metadata": {},
   "source": [
    "Тут получилось только для четных чисел, и рисует только n-1"
   ]
  },
  {
   "cell_type": "code",
   "execution_count": 1,
   "metadata": {
    "collapsed": false
   },
   "outputs": [
    {
     "name": "stdout",
     "output_type": "stream",
     "text": [
      "Какой размер ромба в поперечнике нужен?\n",
      "10\n",
      "    █\n",
      "   ███\n",
      "  █████\n",
      " ███████\n",
      "█████████\n",
      " ███████\n",
      "  █████\n",
      "   ███\n",
      "    █\n"
     ]
    }
   ],
   "source": [
    "print 'Какой размер ромба в поперечнике нужен?'\n",
    "a = input()\n",
    "b = unichr(0x2588)\n",
    "w = ' '\n",
    "for i in range(a):\n",
    "    if i % 2 == 1:\n",
    "        print (a-i)/2*w +(i)*b\n",
    "for i in range(2,a):\n",
    "    if i % 2 == 1:\n",
    "        print (i)/2*w +(a-i)*b"
   ]
  },
  {
   "cell_type": "markdown",
   "metadata": {},
   "source": [
    "Тут чуть лучше, и ввод на нечетность проверяет."
   ]
  },
  {
   "cell_type": "code",
   "execution_count": 2,
   "metadata": {
    "collapsed": false
   },
   "outputs": [
    {
     "name": "stdout",
     "output_type": "stream",
     "text": [
      "Какой размер ромба в поперечнике нужен?\n",
      "10\n",
      "Вы ввели четное число, требуется нечетное \n",
      " Какой размер ромба в поперечнике нужен?\n",
      "11\n",
      "     █\n",
      "    ███\n",
      "   █████\n",
      "  ███████\n",
      " █████████\n",
      "███████████\n",
      " █████████\n",
      "  ███████\n",
      "   █████\n",
      "    ███\n",
      "     █\n"
     ]
    }
   ],
   "source": [
    "print 'Какой размер ромба в поперечнике нужен?'\n",
    "a = input()\n",
    "b = unichr(0x2588)\n",
    "w = ' '\n",
    "while a % 2 == 0:\n",
    "    if a % 2 == 0:\n",
    "        print 'Вы ввели четное число, требуется нечетное \\n Какой размер ромба в поперечнике нужен?'\n",
    "        a = input()\n",
    "    else:\n",
    "        break\n",
    "for i in range(1,a*2):\n",
    "    #print i\n",
    "    if i <= a:\n",
    "        if i % 2== 1:\n",
    "            print w*((a-i)/2)+ b*i\n",
    "    if i > a:\n",
    "        if i % 2 == 1:\n",
    "            print w*((i-a)/2)+ b*(a*2-i)\n"
   ]
  }
 ],
 "metadata": {
  "kernelspec": {
   "display_name": "Python 2",
   "language": "python",
   "name": "python2"
  },
  "language_info": {
   "codemirror_mode": {
    "name": "ipython",
    "version": 2
   },
   "file_extension": ".py",
   "mimetype": "text/x-python",
   "name": "python",
   "nbconvert_exporter": "python",
   "pygments_lexer": "ipython2",
   "version": "2.7.12"
  }
 },
 "nbformat": 4,
 "nbformat_minor": 0
}
